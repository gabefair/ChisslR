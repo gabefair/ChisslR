{
 "cells": [
  {
   "cell_type": "code",
   "execution_count": 72,
   "metadata": {
    "collapsed": true
   },
   "outputs": [],
   "source": [
    "import requests, json"
   ]
  },
  {
   "cell_type": "code",
   "execution_count": 73,
   "metadata": {
    "collapsed": true
   },
   "outputs": [],
   "source": [
    "def create_test_url(base, method=requests.get):\n",
    "    def test_url(url, **kwargs):\n",
    "        response = method(f'{base}{url}', **kwargs)\n",
    "        if response:\n",
    "            return response.json()\n",
    "        \n",
    "    return test_url"
   ]
  },
  {
   "cell_type": "code",
   "execution_count": 74,
   "metadata": {
    "collapsed": true
   },
   "outputs": [],
   "source": [
    "get = create_test_url('http://localhost:3000')\n",
    "post = create_test_url('http://localhost:3000', method=requests.post)"
   ]
  },
  {
   "cell_type": "markdown",
   "metadata": {},
   "source": [
    "# List the Applications"
   ]
  },
  {
   "cell_type": "code",
   "execution_count": 75,
   "metadata": {},
   "outputs": [
    {
     "data": {
      "text/plain": [
       "{'20 Newsgroups (nmf)': {'_id': '20 Newsgroups (nmf)',\n",
       "  'collection': 'Newsgroups',\n",
       "  'component': 'TextComponent',\n",
       "  'pipeline': 'util.pipelines.TextPipeline'},\n",
       " 'Digits': {'_id': 'Digits',\n",
       "  'collection': 'Digits',\n",
       "  'component': 'ImageComponent',\n",
       "  'pipeline': 'util.pipelines.DigitsPipeline'},\n",
       " 'JFK-LAX': {'_id': 'JFK-LAX',\n",
       "  'collection': 'Flights',\n",
       "  'component': 'TrajectoryComponent',\n",
       "  'pipeline': 'util.applications.trajectories.pipeline',\n",
       "  'props': {'domain': {'x': [-158.0500030517578, -35.79999923706055],\n",
       "    'y': [14.199999809265137, 59.08333206176758]}}}}"
      ]
     },
     "execution_count": 75,
     "metadata": {},
     "output_type": "execute_result"
    }
   ],
   "source": [
    "get('/api/applications/')"
   ]
  },
  {
   "cell_type": "markdown",
   "metadata": {},
   "source": [
    "# Create a model for 20 Newsgroups from scratch"
   ]
  },
  {
   "cell_type": "code",
   "execution_count": 81,
   "metadata": {},
   "outputs": [
    {
     "data": {
      "text/plain": [
       "{'test': {'_id': 'test',\n",
       "  'date': 'Thu, 23 Aug 2018 22:10:35 GMT',\n",
       "  'project': None,\n",
       "  'query': None,\n",
       "  'size': 6513}}"
      ]
     },
     "execution_count": 81,
     "metadata": {},
     "output_type": "execute_result"
    }
   ],
   "source": [
    "post('/api/applications/20 Newsgroups (nmf)/transduction/',\n",
    "     json={'model': 'test'})"
   ]
  },
  {
   "cell_type": "markdown",
   "metadata": {},
   "source": [
    "# List the Models for 20 Newsgroups\n",
    "should include the transduction model we just created"
   ]
  },
  {
   "cell_type": "code",
   "execution_count": 82,
   "metadata": {},
   "outputs": [
    {
     "data": {
      "text/plain": [
       "{'induction': {'test': {'_id': 'test',\n",
       "   'date': 'Sat, 18 Aug 2018 16:31:22 GMT'}},\n",
       " 'transduction': {'test': {'_id': 'test',\n",
       "   'date': 'Thu, 23 Aug 2018 22:10:35 GMT',\n",
       "   'project': None,\n",
       "   'query': None,\n",
       "   'size': 6513}}}"
      ]
     },
     "execution_count": 82,
     "metadata": {},
     "output_type": "execute_result"
    }
   ],
   "source": [
    "get('/api/applications/20 Newsgroups (nmf)/')"
   ]
  },
  {
   "cell_type": "markdown",
   "metadata": {},
   "source": [
    "# Train & deploy an induction model"
   ]
  },
  {
   "cell_type": "code",
   "execution_count": null,
   "metadata": {
    "collapsed": true
   },
   "outputs": [],
   "source": [
    "labels = {\n",
    "    '0': 'Autos',\n",
    "    '1': 'Hardware',\n",
    "    '10': 'Autos',\n",
    "    '12': 'Hardware',\n",
    "    '13': 'Space',\n",
    "    '14': 'For sale',\n",
    "    '17': 'Autos',\n",
    "    '19': 'Software',\n",
    "    '2': 'Hardware',\n",
    "    '21': 'Sports',\n",
    "    '22': 'For sale',\n",
    "    '23': 'Software',\n",
    "    '24': 'Hardware',\n",
    "    '27': 'Sports',\n",
    "    '29': 'Autos',\n",
    "    '4': 'Space',\n",
    "    '6': 'Medicine',\n",
    "    '7': 'Hardware',\n",
    "    '8': 'Software',\n",
    "    '9': 'Hardware'\n",
    "}\n",
    "\n",
    "post('/api/applications/20 Newsgroups (nmf)/induction/',\n",
    "     json={ 'model': 'test',\n",
    "            'labels': labels})"
   ]
  },
  {
   "cell_type": "markdown",
   "metadata": {},
   "source": [
    "# Test induction model\n",
    "Will be slow because the model has to retrieved and unpickled"
   ]
  },
  {
   "cell_type": "code",
   "execution_count": 86,
   "metadata": {},
   "outputs": [
    {
     "data": {
      "text/plain": [
       "{'y': ['Autos', 'Software']}"
      ]
     },
     "execution_count": 86,
     "metadata": {},
     "output_type": "execute_result"
    }
   ],
   "source": [
    "post('/api/applications/20 Newsgroups (nmf)/induction/test',\n",
    "     json={ 'X': [{'content': 'i have a car for sale'},\n",
    "                  {'content': 'my printer is broken'}]})"
   ]
  },
  {
   "cell_type": "markdown",
   "metadata": {
    "collapsed": true
   },
   "source": [
    "# Test induction model (again)\n",
    "Should be much faster because of cacheing"
   ]
  },
  {
   "cell_type": "code",
   "execution_count": 87,
   "metadata": {},
   "outputs": [
    {
     "data": {
      "text/plain": [
       "{'y': ['Autos', 'Software']}"
      ]
     },
     "execution_count": 87,
     "metadata": {},
     "output_type": "execute_result"
    }
   ],
   "source": [
    "post('/api/applications/20 Newsgroups (nmf)/induction/test',\n",
    "     json={ 'X': [{'content': 'i have a car for sale'},\n",
    "                  {'content': 'my printer is broken'}]})"
   ]
  }
 ],
 "metadata": {
  "kernelspec": {
   "display_name": "Python 3",
   "language": "python",
   "name": "python3"
  },
  "language_info": {
   "codemirror_mode": {
    "name": "ipython",
    "version": 3
   },
   "file_extension": ".py",
   "mimetype": "text/x-python",
   "name": "python",
   "nbconvert_exporter": "python",
   "pygments_lexer": "ipython3",
   "version": "3.6.3"
  }
 },
 "nbformat": 4,
 "nbformat_minor": 2
}
